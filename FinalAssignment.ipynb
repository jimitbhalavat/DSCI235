{
 "cells": [
  {
   "cell_type": "markdown",
   "metadata": {},
   "source": [
    "# DSCI 235 Final Project"
   ]
  },
  {
   "cell_type": "markdown",
   "metadata": {},
   "source": [
    "Data source: https://covidtracking.com/race"
   ]
  },
  {
   "cell_type": "markdown",
   "metadata": {},
   "source": [
    "GitHub:"
   ]
  },
  {
   "cell_type": "markdown",
   "metadata": {},
   "source": [
    "### Project Description\n",
    "\n",
    "COVID-19 is spreading at an alarming rate all around the globe. Healthcare systems are experiencing a tremendous amount of pressure and health professionals are working extra long and exhausting shifts to deal with the demand. COVID-19 is killing people on a large scale. However, the impact of the pandemic and its consequences are felt differently according to the status of an individual. Data by different social identities, such as class, age, gender, and race shows that minorities have been disproportionately affected by the pandemic. These minorities in the United States are not having their right to health fulfilled. The thing that interests me about this topic is that there have been disparities and differences between races and minorities when it comes to covid testing and the number of hospitalizations. \n"
   ]
  },
  {
   "cell_type": "markdown",
   "metadata": {},
   "source": [
    "### Data Description\n",
    "\n",
    "The data provides total cases, deaths, hospitalizations, and tests conducted for White, Black, Latinx, Native Americans, Native Hawaiian and Pacific Islander (NHPI),  Hispanics, and Non-Hispanics across 55 U.S. States and Territories between April 12, 2020, and March 7, 2021. The COVID Racial Data collects, publishes, and analyzes racial data on the pandemic across the United States. The goal of the data is to gather racial and ethnic demographic data to understand the outbreak and protect vulnerable communities.\n",
    "\n",
    "The information provided in this data includes the following:\n",
    "* Cases_(Total, White, Black, Latinx, Asian, Native American, Native Hawaiian, Hispanic, Non-Hispanics): COVID-19 cases for all the races from all 55 U.S. States and Territories over the period of April 12, 2020, and March 7, 2021. \n",
    "* Deaths_(Total, White, Black, Latinx, Asian, Native American, Native Hawaiian, Hispanic, Non-Hispanics): COVID-19 related deaths for all the races from all 55 U.S. States and Territories over the period of April 12, 2020, and March 7, 2021. \n",
    "* Hosp_(Total, White, Black, Latinx, Asian, Native American, Native Hawaiian, Hispanic, Non-Hispanics): COVID-19 related hospitalizations for all the races from all 55 U.S. States and Territories over the period of April 12, 2020, and March 7, 2021. \n",
    "* Tests_(Total, White, Black, Latinx, Asian, Native American, Native Hawaiian, Hispanic, Non-Hispanics): COVID-19 tests conducted for all the races from all 55 U.S. States and Territories over the period of April 12, 2020, and March 7, 2021. \n"
   ]
  },
  {
   "cell_type": "markdown",
   "metadata": {},
   "source": [
    "### Questions to Answer\n",
    "\n",
    "1. Do hospitalizations vary across races and states?\n",
    "2. Has COVID-19 affected the black community differently than the white community?\n",
    "3. Is there a trend in COVID-19 testing across states and territories over a certain period of time?\n",
    "4. What states or territories were most affected by COVID-19 in terms of cases, deaths, and hospitalizations?\n"
   ]
  },
  {
   "cell_type": "code",
   "execution_count": 1,
   "metadata": {},
   "outputs": [],
   "source": [
    "import numpy as np\n",
    "import pandas as pd\n",
    "from matplotlib import pyplot as plt"
   ]
  },
  {
   "cell_type": "code",
   "execution_count": 2,
   "metadata": {},
   "outputs": [
    {
     "data": {
      "text/html": [
       "<div>\n",
       "<style scoped>\n",
       "    .dataframe tbody tr th:only-of-type {\n",
       "        vertical-align: middle;\n",
       "    }\n",
       "\n",
       "    .dataframe tbody tr th {\n",
       "        vertical-align: top;\n",
       "    }\n",
       "\n",
       "    .dataframe thead th {\n",
       "        text-align: right;\n",
       "    }\n",
       "</style>\n",
       "<table border=\"1\" class=\"dataframe\">\n",
       "  <thead>\n",
       "    <tr style=\"text-align: right;\">\n",
       "      <th></th>\n",
       "      <th>Date</th>\n",
       "      <th>State</th>\n",
       "      <th>Cases_Total</th>\n",
       "      <th>Cases_White</th>\n",
       "      <th>Cases_Black</th>\n",
       "      <th>Cases_Latinx</th>\n",
       "      <th>Cases_Asian</th>\n",
       "      <th>Cases_AIAN</th>\n",
       "      <th>Cases_NHPI</th>\n",
       "      <th>Cases_Multiracial</th>\n",
       "      <th>...</th>\n",
       "      <th>Tests_Latinx</th>\n",
       "      <th>Tests_Asian</th>\n",
       "      <th>Tests_AIAN</th>\n",
       "      <th>Tests_NHPI</th>\n",
       "      <th>Tests_Multiracial</th>\n",
       "      <th>Tests_Other</th>\n",
       "      <th>Tests_Unknown</th>\n",
       "      <th>Tests_Ethnicity_Hispanic</th>\n",
       "      <th>Tests_Ethnicity_NonHispanic</th>\n",
       "      <th>Tests_Ethnicity_Unknown</th>\n",
       "    </tr>\n",
       "  </thead>\n",
       "  <tbody>\n",
       "    <tr>\n",
       "      <th>0</th>\n",
       "      <td>2021-03-07</td>\n",
       "      <td>AK</td>\n",
       "      <td>59332</td>\n",
       "      <td>18300</td>\n",
       "      <td>1499</td>\n",
       "      <td>0</td>\n",
       "      <td>2447</td>\n",
       "      <td>12238</td>\n",
       "      <td>1508</td>\n",
       "      <td>4453</td>\n",
       "      <td>...</td>\n",
       "      <td>0</td>\n",
       "      <td>0</td>\n",
       "      <td>0</td>\n",
       "      <td>0</td>\n",
       "      <td>0</td>\n",
       "      <td>0</td>\n",
       "      <td>0</td>\n",
       "      <td>0</td>\n",
       "      <td>0</td>\n",
       "      <td>0</td>\n",
       "    </tr>\n",
       "    <tr>\n",
       "      <th>1</th>\n",
       "      <td>2021-03-07</td>\n",
       "      <td>AL</td>\n",
       "      <td>499819</td>\n",
       "      <td>160347</td>\n",
       "      <td>82790</td>\n",
       "      <td>0</td>\n",
       "      <td>2273</td>\n",
       "      <td>0</td>\n",
       "      <td>0</td>\n",
       "      <td>0</td>\n",
       "      <td>...</td>\n",
       "      <td>0</td>\n",
       "      <td>0</td>\n",
       "      <td>0</td>\n",
       "      <td>0</td>\n",
       "      <td>0</td>\n",
       "      <td>0</td>\n",
       "      <td>0</td>\n",
       "      <td>0</td>\n",
       "      <td>0</td>\n",
       "      <td>0</td>\n",
       "    </tr>\n",
       "    <tr>\n",
       "      <th>2</th>\n",
       "      <td>2021-03-07</td>\n",
       "      <td>AR</td>\n",
       "      <td>324818</td>\n",
       "      <td>207596</td>\n",
       "      <td>50842</td>\n",
       "      <td>0</td>\n",
       "      <td>2913</td>\n",
       "      <td>1070</td>\n",
       "      <td>3358</td>\n",
       "      <td>1804</td>\n",
       "      <td>...</td>\n",
       "      <td>0</td>\n",
       "      <td>0</td>\n",
       "      <td>0</td>\n",
       "      <td>0</td>\n",
       "      <td>0</td>\n",
       "      <td>0</td>\n",
       "      <td>0</td>\n",
       "      <td>0</td>\n",
       "      <td>0</td>\n",
       "      <td>0</td>\n",
       "    </tr>\n",
       "    <tr>\n",
       "      <th>3</th>\n",
       "      <td>2021-03-07</td>\n",
       "      <td>AS</td>\n",
       "      <td>0</td>\n",
       "      <td>0</td>\n",
       "      <td>0</td>\n",
       "      <td>0</td>\n",
       "      <td>0</td>\n",
       "      <td>0</td>\n",
       "      <td>0</td>\n",
       "      <td>0</td>\n",
       "      <td>...</td>\n",
       "      <td>0</td>\n",
       "      <td>0</td>\n",
       "      <td>0</td>\n",
       "      <td>0</td>\n",
       "      <td>0</td>\n",
       "      <td>0</td>\n",
       "      <td>0</td>\n",
       "      <td>0</td>\n",
       "      <td>0</td>\n",
       "      <td>0</td>\n",
       "    </tr>\n",
       "    <tr>\n",
       "      <th>4</th>\n",
       "      <td>2021-03-07</td>\n",
       "      <td>AZ</td>\n",
       "      <td>826454</td>\n",
       "      <td>308453</td>\n",
       "      <td>25775</td>\n",
       "      <td>244539</td>\n",
       "      <td>11921</td>\n",
       "      <td>40707</td>\n",
       "      <td>0</td>\n",
       "      <td>0</td>\n",
       "      <td>...</td>\n",
       "      <td>0</td>\n",
       "      <td>0</td>\n",
       "      <td>0</td>\n",
       "      <td>0</td>\n",
       "      <td>0</td>\n",
       "      <td>0</td>\n",
       "      <td>0</td>\n",
       "      <td>0</td>\n",
       "      <td>0</td>\n",
       "      <td>0</td>\n",
       "    </tr>\n",
       "  </tbody>\n",
       "</table>\n",
       "<p>5 rows × 54 columns</p>\n",
       "</div>"
      ],
      "text/plain": [
       "         Date State  Cases_Total  Cases_White  Cases_Black  Cases_Latinx  \\\n",
       "0  2021-03-07    AK        59332        18300         1499             0   \n",
       "1  2021-03-07    AL       499819       160347        82790             0   \n",
       "2  2021-03-07    AR       324818       207596        50842             0   \n",
       "3  2021-03-07    AS            0            0            0             0   \n",
       "4  2021-03-07    AZ       826454       308453        25775        244539   \n",
       "\n",
       "   Cases_Asian  Cases_AIAN  Cases_NHPI  Cases_Multiracial  ...  Tests_Latinx  \\\n",
       "0         2447       12238        1508               4453  ...             0   \n",
       "1         2273           0           0                  0  ...             0   \n",
       "2         2913        1070        3358               1804  ...             0   \n",
       "3            0           0           0                  0  ...             0   \n",
       "4        11921       40707           0                  0  ...             0   \n",
       "\n",
       "   Tests_Asian  Tests_AIAN  Tests_NHPI  Tests_Multiracial  Tests_Other  \\\n",
       "0            0           0           0                  0            0   \n",
       "1            0           0           0                  0            0   \n",
       "2            0           0           0                  0            0   \n",
       "3            0           0           0                  0            0   \n",
       "4            0           0           0                  0            0   \n",
       "\n",
       "   Tests_Unknown  Tests_Ethnicity_Hispanic  Tests_Ethnicity_NonHispanic  \\\n",
       "0              0                         0                            0   \n",
       "1              0                         0                            0   \n",
       "2              0                         0                            0   \n",
       "3              0                         0                            0   \n",
       "4              0                         0                            0   \n",
       "\n",
       "   Tests_Ethnicity_Unknown  \n",
       "0                        0  \n",
       "1                        0  \n",
       "2                        0  \n",
       "3                        0  \n",
       "4                        0  \n",
       "\n",
       "[5 rows x 54 columns]"
      ]
     },
     "execution_count": 2,
     "metadata": {},
     "output_type": "execute_result"
    }
   ],
   "source": [
    "data = pd.read_csv('./FinalProjectData.csv')\n",
    "data.head()"
   ]
  },
  {
   "cell_type": "markdown",
   "metadata": {},
   "source": [
    "### Part 1: Do hospitalizations vary across races and states?\n",
    "\n",
    "This part will look at trends in hospitalizations across 55 U.S. states and territories and will explore if there are differences in hospitlatizations across race such as white, black, asians, hispanic, and non-hispanic. The main aim of this part is to see if, there exists, a difference in hospotalization rates among minorities. "
   ]
  },
  {
   "cell_type": "code",
   "execution_count": 3,
   "metadata": {},
   "outputs": [
    {
     "data": {
      "text/html": [
       "<div>\n",
       "<style scoped>\n",
       "    .dataframe tbody tr th:only-of-type {\n",
       "        vertical-align: middle;\n",
       "    }\n",
       "\n",
       "    .dataframe tbody tr th {\n",
       "        vertical-align: top;\n",
       "    }\n",
       "\n",
       "    .dataframe thead th {\n",
       "        text-align: right;\n",
       "    }\n",
       "</style>\n",
       "<table border=\"1\" class=\"dataframe\">\n",
       "  <thead>\n",
       "    <tr style=\"text-align: right;\">\n",
       "      <th></th>\n",
       "      <th>Date</th>\n",
       "      <th>State</th>\n",
       "      <th>Hosp_Total</th>\n",
       "      <th>Hosp_White</th>\n",
       "      <th>Hosp_Black</th>\n",
       "      <th>Hosp_Latinx</th>\n",
       "      <th>Hosp_Asian</th>\n",
       "      <th>Hosp_Ethnicity_Hispanic</th>\n",
       "      <th>Hosp_Ethnicity_NonHispanic</th>\n",
       "    </tr>\n",
       "  </thead>\n",
       "  <tbody>\n",
       "    <tr>\n",
       "      <th>0</th>\n",
       "      <td>2021-03-07</td>\n",
       "      <td>AK</td>\n",
       "      <td>1293</td>\n",
       "      <td>423</td>\n",
       "      <td>45</td>\n",
       "      <td>0</td>\n",
       "      <td>116</td>\n",
       "      <td>66</td>\n",
       "      <td>939</td>\n",
       "    </tr>\n",
       "    <tr>\n",
       "      <th>1</th>\n",
       "      <td>2021-03-07</td>\n",
       "      <td>AL</td>\n",
       "      <td>0</td>\n",
       "      <td>0</td>\n",
       "      <td>0</td>\n",
       "      <td>0</td>\n",
       "      <td>0</td>\n",
       "      <td>0</td>\n",
       "      <td>0</td>\n",
       "    </tr>\n",
       "    <tr>\n",
       "      <th>2</th>\n",
       "      <td>2021-03-07</td>\n",
       "      <td>AR</td>\n",
       "      <td>0</td>\n",
       "      <td>0</td>\n",
       "      <td>0</td>\n",
       "      <td>0</td>\n",
       "      <td>0</td>\n",
       "      <td>0</td>\n",
       "      <td>0</td>\n",
       "    </tr>\n",
       "    <tr>\n",
       "      <th>3</th>\n",
       "      <td>2021-03-07</td>\n",
       "      <td>AS</td>\n",
       "      <td>0</td>\n",
       "      <td>0</td>\n",
       "      <td>0</td>\n",
       "      <td>0</td>\n",
       "      <td>0</td>\n",
       "      <td>0</td>\n",
       "      <td>0</td>\n",
       "    </tr>\n",
       "    <tr>\n",
       "      <th>4</th>\n",
       "      <td>2021-03-07</td>\n",
       "      <td>AZ</td>\n",
       "      <td>57907</td>\n",
       "      <td>26710</td>\n",
       "      <td>2479</td>\n",
       "      <td>18730</td>\n",
       "      <td>1015</td>\n",
       "      <td>18730</td>\n",
       "      <td>37262</td>\n",
       "    </tr>\n",
       "  </tbody>\n",
       "</table>\n",
       "</div>"
      ],
      "text/plain": [
       "         Date State  Hosp_Total  Hosp_White  Hosp_Black  Hosp_Latinx  \\\n",
       "0  2021-03-07    AK        1293         423          45            0   \n",
       "1  2021-03-07    AL           0           0           0            0   \n",
       "2  2021-03-07    AR           0           0           0            0   \n",
       "3  2021-03-07    AS           0           0           0            0   \n",
       "4  2021-03-07    AZ       57907       26710        2479        18730   \n",
       "\n",
       "   Hosp_Asian  Hosp_Ethnicity_Hispanic  Hosp_Ethnicity_NonHispanic  \n",
       "0         116                       66                         939  \n",
       "1           0                        0                           0  \n",
       "2           0                        0                           0  \n",
       "3           0                        0                           0  \n",
       "4        1015                    18730                       37262  "
      ]
     },
     "execution_count": 3,
     "metadata": {},
     "output_type": "execute_result"
    }
   ],
   "source": [
    "hosp_data = data[['Date', 'State', 'Hosp_Total', 'Hosp_White', 'Hosp_Black', 'Hosp_Latinx', \n",
    "                  'Hosp_Asian', 'Hosp_Ethnicity_Hispanic', 'Hosp_Ethnicity_NonHispanic']]\n",
    "hosp_data.head()"
   ]
  },
  {
   "cell_type": "code",
   "execution_count": 24,
   "metadata": {},
   "outputs": [
    {
     "data": {
      "text/html": [
       "<div>\n",
       "<style scoped>\n",
       "    .dataframe tbody tr th:only-of-type {\n",
       "        vertical-align: middle;\n",
       "    }\n",
       "\n",
       "    .dataframe tbody tr th {\n",
       "        vertical-align: top;\n",
       "    }\n",
       "\n",
       "    .dataframe thead th {\n",
       "        text-align: right;\n",
       "    }\n",
       "</style>\n",
       "<table border=\"1\" class=\"dataframe\">\n",
       "  <thead>\n",
       "    <tr style=\"text-align: right;\">\n",
       "      <th></th>\n",
       "      <th>Hosp_Total</th>\n",
       "      <th>Hosp_White</th>\n",
       "      <th>Hosp_Black</th>\n",
       "      <th>Hosp_Latinx</th>\n",
       "      <th>Hosp_Asian</th>\n",
       "    </tr>\n",
       "    <tr>\n",
       "      <th>State</th>\n",
       "      <th></th>\n",
       "      <th></th>\n",
       "      <th></th>\n",
       "      <th></th>\n",
       "      <th></th>\n",
       "    </tr>\n",
       "  </thead>\n",
       "  <tbody>\n",
       "    <tr>\n",
       "      <th>FL</th>\n",
       "      <td>39056.800000</td>\n",
       "      <td>16512.905263</td>\n",
       "      <td>8296.094737</td>\n",
       "      <td>10733.052632</td>\n",
       "      <td>0.000000</td>\n",
       "    </tr>\n",
       "    <tr>\n",
       "      <th>NY</th>\n",
       "      <td>37892.631579</td>\n",
       "      <td>6636.852632</td>\n",
       "      <td>7744.200000</td>\n",
       "      <td>9006.652632</td>\n",
       "      <td>2287.073684</td>\n",
       "    </tr>\n",
       "    <tr>\n",
       "      <th>NJ</th>\n",
       "      <td>29111.915789</td>\n",
       "      <td>11386.578947</td>\n",
       "      <td>5319.400000</td>\n",
       "      <td>7450.957895</td>\n",
       "      <td>1350.073684</td>\n",
       "    </tr>\n",
       "    <tr>\n",
       "      <th>AZ</th>\n",
       "      <td>21934.347368</td>\n",
       "      <td>9049.421053</td>\n",
       "      <td>972.242105</td>\n",
       "      <td>7520.800000</td>\n",
       "      <td>340.073684</td>\n",
       "    </tr>\n",
       "    <tr>\n",
       "      <th>OH</th>\n",
       "      <td>19653.431579</td>\n",
       "      <td>12726.715789</td>\n",
       "      <td>4352.989474</td>\n",
       "      <td>0.000000</td>\n",
       "      <td>311.368421</td>\n",
       "    </tr>\n",
       "  </tbody>\n",
       "</table>\n",
       "</div>"
      ],
      "text/plain": [
       "         Hosp_Total    Hosp_White   Hosp_Black   Hosp_Latinx   Hosp_Asian\n",
       "State                                                                    \n",
       "FL     39056.800000  16512.905263  8296.094737  10733.052632     0.000000\n",
       "NY     37892.631579   6636.852632  7744.200000   9006.652632  2287.073684\n",
       "NJ     29111.915789  11386.578947  5319.400000   7450.957895  1350.073684\n",
       "AZ     21934.347368   9049.421053   972.242105   7520.800000   340.073684\n",
       "OH     19653.431579  12726.715789  4352.989474      0.000000   311.368421"
      ]
     },
     "execution_count": 24,
     "metadata": {},
     "output_type": "execute_result"
    }
   ],
   "source": [
    "hosp_graph = hosp_data.groupby('State').agg({'Hosp_Total' : 'mean', 'Hosp_White' : 'mean', 'Hosp_Black' : 'mean', 'Hosp_Latinx' : 'mean', 'Hosp_Asian' : 'mean'}).sort_values('Hosp_Total', ascending = False).head()\n",
    "hosp_graph.head()"
   ]
  },
  {
   "cell_type": "markdown",
   "metadata": {},
   "source": [
    "From the above three outputs, we can see that the hospitalization rates are the highest in Florida. Florida also have the highest hospitalization rates among Hispanics, and New York have the highest hospitalization rates among Asians. "
   ]
  },
  {
   "cell_type": "code",
   "execution_count": 26,
   "metadata": {},
   "outputs": [
    {
     "data": {
      "image/png": "[encoded data removed]",
      "text/plain": [
       "<Figure size 432x288 with 1 Axes>"
      ]
     },
     "metadata": {
      "needs_background": "light"
     },
     "output_type": "display_data"
    }
   ],
   "source": [
    "hosp_graph.plot();"
   ]
  },
  {
   "cell_type": "markdown",
   "metadata": {},
   "source": [
    "From the above graph, we can conclude that hospitalization rates varies across races where the rates are the highest for White community along with Latin American community. According to the data, hospitalization rates were the lowest for Asian people. This data has inconsistency in it, but from the data gathered the above conclusions can be drawn."
   ]
  },
  {
   "cell_type": "markdown",
   "metadata": {},
   "source": [
    "Now, lets observe if there is a trend exists in hospitalizations across states."
   ]
  },
  {
   "cell_type": "code",
   "execution_count": 36,
   "metadata": {},
   "outputs": [
    {
     "data": {
      "text/plain": [
       "State\n",
       "FL    39056.800000\n",
       "NY    37892.631579\n",
       "NJ    29111.915789\n",
       "AZ    21934.347368\n",
       "OH    19653.431579\n",
       "Name: Hosp_Total, dtype: float64"
      ]
     },
     "execution_count": 36,
     "metadata": {},
     "output_type": "execute_result"
    }
   ],
   "source": [
    "hosp_states = hosp_data.groupby('State')['Hosp_Total'].mean().sort_values(ascending = False).head()\n",
    "hosp_states"
   ]
  },
  {
   "cell_type": "markdown",
   "metadata": {},
   "source": [
    "From the above output, we can see that Florida have the highest hospitalization rates, and the hospitalization rates varies across states and territories in the United States. "
   ]
  },
  {
   "cell_type": "markdown",
   "metadata": {},
   "source": [
    "### Part 2: Has COVID-19 affected the black community differently than the white community?"
   ]
  },
  {
   "cell_type": "markdown",
   "metadata": {},
   "source": [
    "This part of the final assignment will explore the dataset to access the differences in cases, hospitalizations, and deaths among black and white community across all the states and territories in the United States."
   ]
  },
  {
   "cell_type": "code",
   "execution_count": 47,
   "metadata": {},
   "outputs": [
    {
     "data": {
      "text/html": [
       "<div>\n",
       "<style scoped>\n",
       "    .dataframe tbody tr th:only-of-type {\n",
       "        vertical-align: middle;\n",
       "    }\n",
       "\n",
       "    .dataframe tbody tr th {\n",
       "        vertical-align: top;\n",
       "    }\n",
       "\n",
       "    .dataframe thead th {\n",
       "        text-align: right;\n",
       "    }\n",
       "</style>\n",
       "<table border=\"1\" class=\"dataframe\">\n",
       "  <thead>\n",
       "    <tr style=\"text-align: right;\">\n",
       "      <th></th>\n",
       "      <th>Date</th>\n",
       "      <th>State</th>\n",
       "      <th>Cases_Total</th>\n",
       "      <th>Cases_White</th>\n",
       "      <th>Cases_Black</th>\n",
       "      <th>Deaths_Total</th>\n",
       "      <th>Deaths_White</th>\n",
       "      <th>Deaths_Black</th>\n",
       "      <th>Hosp_Total</th>\n",
       "      <th>Hosp_White</th>\n",
       "      <th>Hosp_Black</th>\n",
       "    </tr>\n",
       "  </thead>\n",
       "  <tbody>\n",
       "    <tr>\n",
       "      <th>0</th>\n",
       "      <td>2021-03-07</td>\n",
       "      <td>AK</td>\n",
       "      <td>59332</td>\n",
       "      <td>18300</td>\n",
       "      <td>1499</td>\n",
       "      <td>305</td>\n",
       "      <td>127</td>\n",
       "      <td>9</td>\n",
       "      <td>1293</td>\n",
       "      <td>423</td>\n",
       "      <td>45</td>\n",
       "    </tr>\n",
       "    <tr>\n",
       "      <th>1</th>\n",
       "      <td>2021-03-07</td>\n",
       "      <td>AL</td>\n",
       "      <td>499819</td>\n",
       "      <td>160347</td>\n",
       "      <td>82790</td>\n",
       "      <td>10148</td>\n",
       "      <td>4730</td>\n",
       "      <td>2223</td>\n",
       "      <td>0</td>\n",
       "      <td>0</td>\n",
       "      <td>0</td>\n",
       "    </tr>\n",
       "    <tr>\n",
       "      <th>2</th>\n",
       "      <td>2021-03-07</td>\n",
       "      <td>AR</td>\n",
       "      <td>324818</td>\n",
       "      <td>207596</td>\n",
       "      <td>50842</td>\n",
       "      <td>5319</td>\n",
       "      <td>4171</td>\n",
       "      <td>784</td>\n",
       "      <td>0</td>\n",
       "      <td>0</td>\n",
       "      <td>0</td>\n",
       "    </tr>\n",
       "    <tr>\n",
       "      <th>3</th>\n",
       "      <td>2021-03-07</td>\n",
       "      <td>AS</td>\n",
       "      <td>0</td>\n",
       "      <td>0</td>\n",
       "      <td>0</td>\n",
       "      <td>0</td>\n",
       "      <td>0</td>\n",
       "      <td>0</td>\n",
       "      <td>0</td>\n",
       "      <td>0</td>\n",
       "      <td>0</td>\n",
       "    </tr>\n",
       "    <tr>\n",
       "      <th>4</th>\n",
       "      <td>2021-03-07</td>\n",
       "      <td>AZ</td>\n",
       "      <td>826454</td>\n",
       "      <td>308453</td>\n",
       "      <td>25775</td>\n",
       "      <td>16328</td>\n",
       "      <td>8066</td>\n",
       "      <td>433</td>\n",
       "      <td>57907</td>\n",
       "      <td>26710</td>\n",
       "      <td>2479</td>\n",
       "    </tr>\n",
       "  </tbody>\n",
       "</table>\n",
       "</div>"
      ],
      "text/plain": [
       "         Date State  Cases_Total  Cases_White  Cases_Black  Deaths_Total  \\\n",
       "0  2021-03-07    AK        59332        18300         1499           305   \n",
       "1  2021-03-07    AL       499819       160347        82790         10148   \n",
       "2  2021-03-07    AR       324818       207596        50842          5319   \n",
       "3  2021-03-07    AS            0            0            0             0   \n",
       "4  2021-03-07    AZ       826454       308453        25775         16328   \n",
       "\n",
       "   Deaths_White  Deaths_Black  Hosp_Total  Hosp_White  Hosp_Black  \n",
       "0           127             9        1293         423          45  \n",
       "1          4730          2223           0           0           0  \n",
       "2          4171           784           0           0           0  \n",
       "3             0             0           0           0           0  \n",
       "4          8066           433       57907       26710        2479  "
      ]
     },
     "execution_count": 47,
     "metadata": {},
     "output_type": "execute_result"
    }
   ],
   "source": [
    "data_diff = data[['Date', 'State', 'Cases_Total', 'Cases_White', 'Cases_Black', \n",
    "               'Deaths_Total', 'Deaths_White', 'Deaths_Black', \n",
    "               'Hosp_Total', 'Hosp_White', 'Hosp_Black']][:56]\n",
    "data_diff.head()"
   ]
  },
  {
   "cell_type": "markdown",
   "metadata": {},
   "source": [
    "As the above DataFrame shows, we extracted the data for black and white community for cases, deaths, and hospitalizations in the United States for a certain amount of time."
   ]
  },
  {
   "cell_type": "markdown",
   "metadata": {},
   "source": [
    "Lets use groupby to see the number of cases in black and white community in different states and territories in the United States. "
   ]
  },
  {
   "cell_type": "code",
   "execution_count": 48,
   "metadata": {},
   "outputs": [
    {
     "data": {
      "text/html": [
       "<div>\n",
       "<style scoped>\n",
       "    .dataframe tbody tr th:only-of-type {\n",
       "        vertical-align: middle;\n",
       "    }\n",
       "\n",
       "    .dataframe tbody tr th {\n",
       "        vertical-align: top;\n",
       "    }\n",
       "\n",
       "    .dataframe thead th {\n",
       "        text-align: right;\n",
       "    }\n",
       "</style>\n",
       "<table border=\"1\" class=\"dataframe\">\n",
       "  <thead>\n",
       "    <tr style=\"text-align: right;\">\n",
       "      <th></th>\n",
       "      <th>Cases_White</th>\n",
       "      <th>Cases_Black</th>\n",
       "    </tr>\n",
       "    <tr>\n",
       "      <th>State</th>\n",
       "      <th></th>\n",
       "      <th></th>\n",
       "    </tr>\n",
       "  </thead>\n",
       "  <tbody>\n",
       "    <tr>\n",
       "      <th>FL</th>\n",
       "      <td>664121</td>\n",
       "      <td>237772</td>\n",
       "    </tr>\n",
       "    <tr>\n",
       "      <th>OH</th>\n",
       "      <td>579544</td>\n",
       "      <td>101785</td>\n",
       "    </tr>\n",
       "    <tr>\n",
       "      <th>CA</th>\n",
       "      <td>546630</td>\n",
       "      <td>111279</td>\n",
       "    </tr>\n",
       "    <tr>\n",
       "      <th>TN</th>\n",
       "      <td>489782</td>\n",
       "      <td>102220</td>\n",
       "    </tr>\n",
       "    <tr>\n",
       "      <th>PA</th>\n",
       "      <td>487131</td>\n",
       "      <td>81180</td>\n",
       "    </tr>\n",
       "  </tbody>\n",
       "</table>\n",
       "</div>"
      ],
      "text/plain": [
       "       Cases_White  Cases_Black\n",
       "State                          \n",
       "FL          664121       237772\n",
       "OH          579544       101785\n",
       "CA          546630       111279\n",
       "TN          489782       102220\n",
       "PA          487131        81180"
      ]
     },
     "execution_count": 48,
     "metadata": {},
     "output_type": "execute_result"
    }
   ],
   "source": [
    "white_cases = pd.DataFrame(data_diff.groupby('State')['Cases_White'].sum())\n",
    "white_cases.sort_values('Cases_White', ascending = False).head()\n",
    "black_cases = pd.DataFrame(data_diff.groupby('State')['Cases_Black'].sum())\n",
    "black_cases.sort_values('Cases_Black', ascending = False).head()\n",
    "new_df = pd.merge(white_cases, black_cases, left_index = True, right_index = True)\n",
    "new_df.sort_values('Cases_White', ascending = False).head()"
   ]
  },
  {
   "cell_type": "code",
   "execution_count": 49,
   "metadata": {},
   "outputs": [
    {
     "data": {
      "text/html": [
       "<div>\n",
       "<style scoped>\n",
       "    .dataframe tbody tr th:only-of-type {\n",
       "        vertical-align: middle;\n",
       "    }\n",
       "\n",
       "    .dataframe tbody tr th {\n",
       "        vertical-align: top;\n",
       "    }\n",
       "\n",
       "    .dataframe thead th {\n",
       "        text-align: right;\n",
       "    }\n",
       "</style>\n",
       "<table border=\"1\" class=\"dataframe\">\n",
       "  <thead>\n",
       "    <tr style=\"text-align: right;\">\n",
       "      <th></th>\n",
       "      <th>Cases_White</th>\n",
       "      <th>Cases_Black</th>\n",
       "    </tr>\n",
       "    <tr>\n",
       "      <th>State</th>\n",
       "      <th></th>\n",
       "      <th></th>\n",
       "    </tr>\n",
       "  </thead>\n",
       "  <tbody>\n",
       "    <tr>\n",
       "      <th>FL</th>\n",
       "      <td>664121</td>\n",
       "      <td>237772</td>\n",
       "    </tr>\n",
       "    <tr>\n",
       "      <th>GA</th>\n",
       "      <td>319208</td>\n",
       "      <td>216068</td>\n",
       "    </tr>\n",
       "    <tr>\n",
       "      <th>NC</th>\n",
       "      <td>442322</td>\n",
       "      <td>146993</td>\n",
       "    </tr>\n",
       "    <tr>\n",
       "      <th>LA</th>\n",
       "      <td>218332</td>\n",
       "      <td>136460</td>\n",
       "    </tr>\n",
       "    <tr>\n",
       "      <th>MD</th>\n",
       "      <td>134697</td>\n",
       "      <td>112033</td>\n",
       "    </tr>\n",
       "  </tbody>\n",
       "</table>\n",
       "</div>"
      ],
      "text/plain": [
       "       Cases_White  Cases_Black\n",
       "State                          \n",
       "FL          664121       237772\n",
       "GA          319208       216068\n",
       "NC          442322       146993\n",
       "LA          218332       136460\n",
       "MD          134697       112033"
      ]
     },
     "execution_count": 49,
     "metadata": {},
     "output_type": "execute_result"
    }
   ],
   "source": [
    "new_df.sort_values('Cases_Black', ascending = False).head()"
   ]
  },
  {
   "cell_type": "markdown",
   "metadata": {},
   "source": [
    "From the above two dataframes, we can see that the amount of cases in the black and white community differ by states and the reason behind this is the population of the black community. Few states have a higher number of black population than other states. Lets graph the Cases for white and black community over time for Florida, California, and Georgia. "
   ]
  },
  {
   "cell_type": "code",
   "execution_count": 50,
   "metadata": {
    "scrolled": true
   },
   "outputs": [
    {
     "data": {
      "image/png": "[encoded data removed]",
      "text/plain": [
       "<Figure size 432x288 with 1 Axes>"
      ]
     },
     "metadata": {
      "needs_background": "light"
     },
     "output_type": "display_data"
    }
   ],
   "source": [
    "cases_plot = data.set_index(['State', 'Date'])\n",
    "fl_white = pd.DataFrame(cases_plot.loc['FL']['Cases_White'])\n",
    "fl_black = pd.DataFrame(cases_plot.loc['FL']['Cases_Black'])\n",
    "ax = fl_white.plot()\n",
    "fl_black.plot(ax = ax);"
   ]
  },
  {
   "cell_type": "code",
   "execution_count": 51,
   "metadata": {},
   "outputs": [
    {
     "data": {
      "image/png": "[encoded data removed]",
      "text/plain": [
       "<Figure size 432x288 with 1 Axes>"
      ]
     },
     "metadata": {
      "needs_background": "light"
     },
     "output_type": "display_data"
    }
   ],
   "source": [
    "ca_white = pd.DataFrame(cases_plot.loc['CA']['Cases_White'])\n",
    "ca_black = pd.DataFrame(cases_plot.loc['CA']['Cases_Black'])\n",
    "ax = ca_white.plot()\n",
    "ca_black.plot(ax = ax);"
   ]
  },
  {
   "cell_type": "code",
   "execution_count": 52,
   "metadata": {},
   "outputs": [
    {
     "data": {
      "image/png": "[encoded data removed]",
      "text/plain": [
       "<Figure size 432x288 with 1 Axes>"
      ]
     },
     "metadata": {
      "needs_background": "light"
     },
     "output_type": "display_data"
    }
   ],
   "source": [
    "ga_white = pd.DataFrame(cases_plot.loc['GA']['Cases_White'])\n",
    "ga_black = pd.DataFrame(cases_plot.loc['GA']['Cases_Black'])\n",
    "ax = ga_white.plot()\n",
    "ga_black.plot(ax = ax);"
   ]
  },
  {
   "cell_type": "markdown",
   "metadata": {},
   "source": [
    "From the above three graphs, we can see that at the beginning of the COVID-19 pandemic, the black community was affected more than the white community in Florida, California, and Georigia. \n",
    "\n",
    "Now let's observe some trends in deaths for the white and black community across all the states and territories in the United States."
   ]
  },
  {
   "cell_type": "code",
   "execution_count": 54,
   "metadata": {},
   "outputs": [
    {
     "data": {
      "text/html": [
       "<div>\n",
       "<style scoped>\n",
       "    .dataframe tbody tr th:only-of-type {\n",
       "        vertical-align: middle;\n",
       "    }\n",
       "\n",
       "    .dataframe tbody tr th {\n",
       "        vertical-align: top;\n",
       "    }\n",
       "\n",
       "    .dataframe thead th {\n",
       "        text-align: right;\n",
       "    }\n",
       "</style>\n",
       "<table border=\"1\" class=\"dataframe\">\n",
       "  <thead>\n",
       "    <tr style=\"text-align: right;\">\n",
       "      <th></th>\n",
       "      <th>Date</th>\n",
       "      <th>State</th>\n",
       "      <th>Cases_Total</th>\n",
       "      <th>Cases_White</th>\n",
       "      <th>Cases_Black</th>\n",
       "      <th>Deaths_Total</th>\n",
       "      <th>Deaths_White</th>\n",
       "      <th>Deaths_Black</th>\n",
       "      <th>Hosp_Total</th>\n",
       "      <th>Hosp_White</th>\n",
       "      <th>Hosp_Black</th>\n",
       "      <th>Death_Percent_White</th>\n",
       "      <th>Death_Percent_Black</th>\n",
       "    </tr>\n",
       "  </thead>\n",
       "  <tbody>\n",
       "    <tr>\n",
       "      <th>0</th>\n",
       "      <td>2021-03-07</td>\n",
       "      <td>AK</td>\n",
       "      <td>59332</td>\n",
       "      <td>18300</td>\n",
       "      <td>1499</td>\n",
       "      <td>305</td>\n",
       "      <td>127</td>\n",
       "      <td>9</td>\n",
       "      <td>1293</td>\n",
       "      <td>423</td>\n",
       "      <td>45</td>\n",
       "      <td>41.639344</td>\n",
       "      <td>2.950820</td>\n",
       "    </tr>\n",
       "    <tr>\n",
       "      <th>1</th>\n",
       "      <td>2021-03-07</td>\n",
       "      <td>AL</td>\n",
       "      <td>499819</td>\n",
       "      <td>160347</td>\n",
       "      <td>82790</td>\n",
       "      <td>10148</td>\n",
       "      <td>4730</td>\n",
       "      <td>2223</td>\n",
       "      <td>0</td>\n",
       "      <td>0</td>\n",
       "      <td>0</td>\n",
       "      <td>46.610169</td>\n",
       "      <td>21.905794</td>\n",
       "    </tr>\n",
       "    <tr>\n",
       "      <th>2</th>\n",
       "      <td>2021-03-07</td>\n",
       "      <td>AR</td>\n",
       "      <td>324818</td>\n",
       "      <td>207596</td>\n",
       "      <td>50842</td>\n",
       "      <td>5319</td>\n",
       "      <td>4171</td>\n",
       "      <td>784</td>\n",
       "      <td>0</td>\n",
       "      <td>0</td>\n",
       "      <td>0</td>\n",
       "      <td>78.416996</td>\n",
       "      <td>14.739613</td>\n",
       "    </tr>\n",
       "    <tr>\n",
       "      <th>3</th>\n",
       "      <td>2021-03-07</td>\n",
       "      <td>AS</td>\n",
       "      <td>0</td>\n",
       "      <td>0</td>\n",
       "      <td>0</td>\n",
       "      <td>0</td>\n",
       "      <td>0</td>\n",
       "      <td>0</td>\n",
       "      <td>0</td>\n",
       "      <td>0</td>\n",
       "      <td>0</td>\n",
       "      <td>NaN</td>\n",
       "      <td>NaN</td>\n",
       "    </tr>\n",
       "    <tr>\n",
       "      <th>4</th>\n",
       "      <td>2021-03-07</td>\n",
       "      <td>AZ</td>\n",
       "      <td>826454</td>\n",
       "      <td>308453</td>\n",
       "      <td>25775</td>\n",
       "      <td>16328</td>\n",
       "      <td>8066</td>\n",
       "      <td>433</td>\n",
       "      <td>57907</td>\n",
       "      <td>26710</td>\n",
       "      <td>2479</td>\n",
       "      <td>49.399804</td>\n",
       "      <td>2.651886</td>\n",
       "    </tr>\n",
       "  </tbody>\n",
       "</table>\n",
       "</div>"
      ],
      "text/plain": [
       "         Date State  Cases_Total  Cases_White  Cases_Black  Deaths_Total  \\\n",
       "0  2021-03-07    AK        59332        18300         1499           305   \n",
       "1  2021-03-07    AL       499819       160347        82790         10148   \n",
       "2  2021-03-07    AR       324818       207596        50842          5319   \n",
       "3  2021-03-07    AS            0            0            0             0   \n",
       "4  2021-03-07    AZ       826454       308453        25775         16328   \n",
       "\n",
       "   Deaths_White  Deaths_Black  Hosp_Total  Hosp_White  Hosp_Black  \\\n",
       "0           127             9        1293         423          45   \n",
       "1          4730          2223           0           0           0   \n",
       "2          4171           784           0           0           0   \n",
       "3             0             0           0           0           0   \n",
       "4          8066           433       57907       26710        2479   \n",
       "\n",
       "   Death_Percent_White  Death_Percent_Black  \n",
       "0            41.639344             2.950820  \n",
       "1            46.610169            21.905794  \n",
       "2            78.416996            14.739613  \n",
       "3                  NaN                  NaN  \n",
       "4            49.399804             2.651886  "
      ]
     },
     "execution_count": 54,
     "metadata": {},
     "output_type": "execute_result"
    }
   ],
   "source": [
    "data_diff['Death_Percent_White'] = (data_diff['Deaths_White'] / data_diff['Deaths_Total']) * 100\n",
    "data_diff['Death_Percent_Black'] = (data_diff['Deaths_Black'] / data_diff['Deaths_Total']) * 100\n",
    "data_diff.head()"
   ]
  },
  {
   "cell_type": "markdown",
   "metadata": {},
   "source": [
    "Lets find states with higher percentages of deaths in the black community."
   ]
  },
  {
   "cell_type": "code",
   "execution_count": 55,
   "metadata": {
    "scrolled": true
   },
   "outputs": [
    {
     "data": {
      "text/plain": [
       "8    DC\n",
       "Name: State, dtype: object"
      ]
     },
     "execution_count": 55,
     "metadata": {},
     "output_type": "execute_result"
    }
   ],
   "source": [
    "data_diff['State'][data_diff['Death_Percent_White'] < data_diff['Death_Percent_Black']]"
   ]
  },
  {
   "cell_type": "markdown",
   "metadata": {},
   "source": [
    "From the above output, we can see that Washington DC is the only place where black community has seen more deaths than the white community."
   ]
  },
  {
   "cell_type": "markdown",
   "metadata": {},
   "source": [
    "Let's graph the death percentages for the states with the highest amount of death percentages in the white community and see the difference from the black community."
   ]
  },
  {
   "cell_type": "code",
   "execution_count": 56,
   "metadata": {},
   "outputs": [],
   "source": [
    "data_diff_graph = data_diff.set_index('State')\n",
    "data_diff_plot = data_diff_graph.loc['NH']['Death_Percent_White']"
   ]
  },
  {
   "cell_type": "code",
   "execution_count": null,
   "metadata": {},
   "outputs": [],
   "source": []
  },
  {
   "cell_type": "markdown",
   "metadata": {},
   "source": [
    "The above part explored the comparison in deaths in the black and white community across all states and territories in the United States. Now, to answer the question completely, lets see trends in hospitalizations in the black and white community."
   ]
  },
  {
   "cell_type": "code",
   "execution_count": 68,
   "metadata": {},
   "outputs": [
    {
     "data": {
      "text/html": [
       "<div>\n",
       "<style scoped>\n",
       "    .dataframe tbody tr th:only-of-type {\n",
       "        vertical-align: middle;\n",
       "    }\n",
       "\n",
       "    .dataframe tbody tr th {\n",
       "        vertical-align: top;\n",
       "    }\n",
       "\n",
       "    .dataframe thead th {\n",
       "        text-align: right;\n",
       "    }\n",
       "</style>\n",
       "<table border=\"1\" class=\"dataframe\">\n",
       "  <thead>\n",
       "    <tr style=\"text-align: right;\">\n",
       "      <th></th>\n",
       "      <th></th>\n",
       "      <th></th>\n",
       "      <th>Date</th>\n",
       "      <th>Cases_Total</th>\n",
       "      <th>Cases_White</th>\n",
       "      <th>Cases_Black</th>\n",
       "      <th>Deaths_Total</th>\n",
       "      <th>Deaths_White</th>\n",
       "      <th>Deaths_Black</th>\n",
       "      <th>Hosp_Total</th>\n",
       "      <th>Death_Percent_White</th>\n",
       "      <th>Death_Percent_Black</th>\n",
       "    </tr>\n",
       "    <tr>\n",
       "      <th>State</th>\n",
       "      <th>Hosp_White</th>\n",
       "      <th>Hosp_Black</th>\n",
       "      <th></th>\n",
       "      <th></th>\n",
       "      <th></th>\n",
       "      <th></th>\n",
       "      <th></th>\n",
       "      <th></th>\n",
       "      <th></th>\n",
       "      <th></th>\n",
       "      <th></th>\n",
       "      <th></th>\n",
       "    </tr>\n",
       "  </thead>\n",
       "  <tbody>\n",
       "    <tr>\n",
       "      <th>NY</th>\n",
       "      <th>21649</th>\n",
       "      <th>23650</th>\n",
       "      <td>2021-03-07</td>\n",
       "      <td>1681169</td>\n",
       "      <td>0</td>\n",
       "      <td>0</td>\n",
       "      <td>48591</td>\n",
       "      <td>17007</td>\n",
       "      <td>9812</td>\n",
       "      <td>89995</td>\n",
       "      <td>35.000309</td>\n",
       "      <td>20.193040</td>\n",
       "    </tr>\n",
       "    <tr>\n",
       "      <th>GA</th>\n",
       "      <th>24335</th>\n",
       "      <th>22046</th>\n",
       "      <td>2021-03-07</td>\n",
       "      <td>1023487</td>\n",
       "      <td>319208</td>\n",
       "      <td>216068</td>\n",
       "      <td>17906</td>\n",
       "      <td>8939</td>\n",
       "      <td>5282</td>\n",
       "      <td>56797</td>\n",
       "      <td>49.921814</td>\n",
       "      <td>29.498492</td>\n",
       "    </tr>\n",
       "    <tr>\n",
       "      <th>FL</th>\n",
       "      <th>38131</th>\n",
       "      <th>16138</th>\n",
       "      <td>2021-03-07</td>\n",
       "      <td>1944995</td>\n",
       "      <td>664121</td>\n",
       "      <td>237772</td>\n",
       "      <td>32266</td>\n",
       "      <td>17316</td>\n",
       "      <td>4812</td>\n",
       "      <td>82237</td>\n",
       "      <td>53.666398</td>\n",
       "      <td>14.913531</td>\n",
       "    </tr>\n",
       "  </tbody>\n",
       "</table>\n",
       "</div>"
      ],
      "text/plain": [
       "                                   Date  Cases_Total  Cases_White  \\\n",
       "State Hosp_White Hosp_Black                                         \n",
       "NY    21649      23650       2021-03-07      1681169            0   \n",
       "GA    24335      22046       2021-03-07      1023487       319208   \n",
       "FL    38131      16138       2021-03-07      1944995       664121   \n",
       "\n",
       "                             Cases_Black  Deaths_Total  Deaths_White  \\\n",
       "State Hosp_White Hosp_Black                                            \n",
       "NY    21649      23650                 0         48591         17007   \n",
       "GA    24335      22046            216068         17906          8939   \n",
       "FL    38131      16138            237772         32266         17316   \n",
       "\n",
       "                             Deaths_Black  Hosp_Total  Death_Percent_White  \\\n",
       "State Hosp_White Hosp_Black                                                  \n",
       "NY    21649      23650               9812       89995            35.000309   \n",
       "GA    24335      22046               5282       56797            49.921814   \n",
       "FL    38131      16138               4812       82237            53.666398   \n",
       "\n",
       "                             Death_Percent_Black  \n",
       "State Hosp_White Hosp_Black                       \n",
       "NY    21649      23650                 20.193040  \n",
       "GA    24335      22046                 29.498492  \n",
       "FL    38131      16138                 14.913531  "
      ]
     },
     "execution_count": 68,
     "metadata": {},
     "output_type": "execute_result"
    }
   ],
   "source": [
    "data_diff_hosp = data_diff.set_index(['State', 'Hosp_White', 'Hosp_Black'])\n",
    "data_diff_hosp.sort_values('Hosp_Black', ascending = False)\n",
    "data_diff_hosp.loc[['NY', 'GA', 'FL']]"
   ]
  },
  {
   "cell_type": "markdown",
   "metadata": {},
   "source": [
    "### Part 3: Is there a trend in COVID-19 testing across states and territories over a certain period of time?"
   ]
  },
  {
   "cell_type": "markdown",
   "metadata": {},
   "source": [
    "For this part, we will explore if there are variations in testing across all the states and territories in the United States. We will also answer the question: Are the cases higher in states who have higher testing numbers?"
   ]
  },
  {
   "cell_type": "code",
   "execution_count": 15,
   "metadata": {},
   "outputs": [
    {
     "data": {
      "text/html": [
       "<div>\n",
       "<style scoped>\n",
       "    .dataframe tbody tr th:only-of-type {\n",
       "        vertical-align: middle;\n",
       "    }\n",
       "\n",
       "    .dataframe tbody tr th {\n",
       "        vertical-align: top;\n",
       "    }\n",
       "\n",
       "    .dataframe thead th {\n",
       "        text-align: right;\n",
       "    }\n",
       "</style>\n",
       "<table border=\"1\" class=\"dataframe\">\n",
       "  <thead>\n",
       "    <tr style=\"text-align: right;\">\n",
       "      <th></th>\n",
       "      <th>Date</th>\n",
       "      <th>State</th>\n",
       "      <th>Tests_Total</th>\n",
       "      <th>Cases_Total</th>\n",
       "    </tr>\n",
       "  </thead>\n",
       "  <tbody>\n",
       "    <tr>\n",
       "      <th>0</th>\n",
       "      <td>2021-03-07</td>\n",
       "      <td>AK</td>\n",
       "      <td>0</td>\n",
       "      <td>59332</td>\n",
       "    </tr>\n",
       "    <tr>\n",
       "      <th>1</th>\n",
       "      <td>2021-03-07</td>\n",
       "      <td>AL</td>\n",
       "      <td>2323788</td>\n",
       "      <td>499819</td>\n",
       "    </tr>\n",
       "    <tr>\n",
       "      <th>2</th>\n",
       "      <td>2021-03-07</td>\n",
       "      <td>AR</td>\n",
       "      <td>2736442</td>\n",
       "      <td>324818</td>\n",
       "    </tr>\n",
       "    <tr>\n",
       "      <th>3</th>\n",
       "      <td>2021-03-07</td>\n",
       "      <td>AS</td>\n",
       "      <td>0</td>\n",
       "      <td>0</td>\n",
       "    </tr>\n",
       "    <tr>\n",
       "      <th>4</th>\n",
       "      <td>2021-03-07</td>\n",
       "      <td>AZ</td>\n",
       "      <td>7908105</td>\n",
       "      <td>826454</td>\n",
       "    </tr>\n",
       "  </tbody>\n",
       "</table>\n",
       "</div>"
      ],
      "text/plain": [
       "         Date State  Tests_Total  Cases_Total\n",
       "0  2021-03-07    AK            0        59332\n",
       "1  2021-03-07    AL      2323788       499819\n",
       "2  2021-03-07    AR      2736442       324818\n",
       "3  2021-03-07    AS            0            0\n",
       "4  2021-03-07    AZ      7908105       826454"
      ]
     },
     "execution_count": 15,
     "metadata": {},
     "output_type": "execute_result"
    }
   ],
   "source": [
    "test_data = data[['Date', 'State', 'Tests_Total', 'Cases_Total']][:56]\n",
    "test_data.head()"
   ]
  },
  {
   "cell_type": "markdown",
   "metadata": {},
   "source": [
    "Above is the dataset that will be used for the rest of this question. Lets add a column called `Positivity_Rates`. This column can be calculated using the formula below:\n",
    "\n",
    "\\begin{equation}\n",
    "PositivityRates = (CasesTotal / TestsTotal) * 100\n",
    "\\end{equation}"
   ]
  },
  {
   "cell_type": "code",
   "execution_count": 16,
   "metadata": {},
   "outputs": [
    {
     "data": {
      "text/html": [
       "<div>\n",
       "<style scoped>\n",
       "    .dataframe tbody tr th:only-of-type {\n",
       "        vertical-align: middle;\n",
       "    }\n",
       "\n",
       "    .dataframe tbody tr th {\n",
       "        vertical-align: top;\n",
       "    }\n",
       "\n",
       "    .dataframe thead th {\n",
       "        text-align: right;\n",
       "    }\n",
       "</style>\n",
       "<table border=\"1\" class=\"dataframe\">\n",
       "  <thead>\n",
       "    <tr style=\"text-align: right;\">\n",
       "      <th></th>\n",
       "      <th>Date</th>\n",
       "      <th>State</th>\n",
       "      <th>Tests_Total</th>\n",
       "      <th>Cases_Total</th>\n",
       "      <th>Positivity_Rates</th>\n",
       "    </tr>\n",
       "  </thead>\n",
       "  <tbody>\n",
       "    <tr>\n",
       "      <th>0</th>\n",
       "      <td>2021-03-07</td>\n",
       "      <td>AK</td>\n",
       "      <td>0</td>\n",
       "      <td>59332</td>\n",
       "      <td>inf</td>\n",
       "    </tr>\n",
       "    <tr>\n",
       "      <th>1</th>\n",
       "      <td>2021-03-07</td>\n",
       "      <td>AL</td>\n",
       "      <td>2323788</td>\n",
       "      <td>499819</td>\n",
       "      <td>21.508804</td>\n",
       "    </tr>\n",
       "    <tr>\n",
       "      <th>2</th>\n",
       "      <td>2021-03-07</td>\n",
       "      <td>AR</td>\n",
       "      <td>2736442</td>\n",
       "      <td>324818</td>\n",
       "      <td>11.870085</td>\n",
       "    </tr>\n",
       "    <tr>\n",
       "      <th>3</th>\n",
       "      <td>2021-03-07</td>\n",
       "      <td>AS</td>\n",
       "      <td>0</td>\n",
       "      <td>0</td>\n",
       "      <td>NaN</td>\n",
       "    </tr>\n",
       "    <tr>\n",
       "      <th>4</th>\n",
       "      <td>2021-03-07</td>\n",
       "      <td>AZ</td>\n",
       "      <td>7908105</td>\n",
       "      <td>826454</td>\n",
       "      <td>10.450721</td>\n",
       "    </tr>\n",
       "  </tbody>\n",
       "</table>\n",
       "</div>"
      ],
      "text/plain": [
       "         Date State  Tests_Total  Cases_Total  Positivity_Rates\n",
       "0  2021-03-07    AK            0        59332               inf\n",
       "1  2021-03-07    AL      2323788       499819         21.508804\n",
       "2  2021-03-07    AR      2736442       324818         11.870085\n",
       "3  2021-03-07    AS            0            0               NaN\n",
       "4  2021-03-07    AZ      7908105       826454         10.450721"
      ]
     },
     "execution_count": 16,
     "metadata": {},
     "output_type": "execute_result"
    }
   ],
   "source": [
    "test_data['Positivity_Rates'] = (test_data['Cases_Total'] / test_data['Tests_Total']) * 100\n",
    "test_data.head()"
   ]
  },
  {
   "cell_type": "markdown",
   "metadata": {},
   "source": [
    "As we can observe in the above table that the positivity rates are calculated for a few states, but some positivity rates are inf and NaNs. This is because of uncertainity in data and the states or territories have not provided the data to the source and therefore these uncertainities in the data exist."
   ]
  },
  {
   "cell_type": "markdown",
   "metadata": {},
   "source": [
    "Lets extract the states or territories with the highest number of cases and tests and make assertions about if the cases are higher in places where more tests have taken place."
   ]
  },
  {
   "cell_type": "code",
   "execution_count": 17,
   "metadata": {},
   "outputs": [
    {
     "data": {
      "text/html": [
       "<div>\n",
       "<style scoped>\n",
       "    .dataframe tbody tr th:only-of-type {\n",
       "        vertical-align: middle;\n",
       "    }\n",
       "\n",
       "    .dataframe tbody tr th {\n",
       "        vertical-align: top;\n",
       "    }\n",
       "\n",
       "    .dataframe thead th {\n",
       "        text-align: right;\n",
       "    }\n",
       "</style>\n",
       "<table border=\"1\" class=\"dataframe\">\n",
       "  <thead>\n",
       "    <tr style=\"text-align: right;\">\n",
       "      <th></th>\n",
       "      <th>Date</th>\n",
       "      <th>State</th>\n",
       "      <th>Tests_Total</th>\n",
       "      <th>Cases_Total</th>\n",
       "      <th>Positivity_Rates</th>\n",
       "    </tr>\n",
       "  </thead>\n",
       "  <tbody>\n",
       "    <tr>\n",
       "      <th>5</th>\n",
       "      <td>2021-03-07</td>\n",
       "      <td>CA</td>\n",
       "      <td>49646014</td>\n",
       "      <td>3501394</td>\n",
       "      <td>7.052719</td>\n",
       "    </tr>\n",
       "    <tr>\n",
       "      <th>37</th>\n",
       "      <td>2021-03-07</td>\n",
       "      <td>NY</td>\n",
       "      <td>39695100</td>\n",
       "      <td>1681169</td>\n",
       "      <td>4.235205</td>\n",
       "    </tr>\n",
       "    <tr>\n",
       "      <th>10</th>\n",
       "      <td>2021-03-07</td>\n",
       "      <td>FL</td>\n",
       "      <td>22339182</td>\n",
       "      <td>1944995</td>\n",
       "      <td>8.706653</td>\n",
       "    </tr>\n",
       "    <tr>\n",
       "      <th>47</th>\n",
       "      <td>2021-03-07</td>\n",
       "      <td>TX</td>\n",
       "      <td>19907384</td>\n",
       "      <td>2686818</td>\n",
       "      <td>13.496590</td>\n",
       "    </tr>\n",
       "    <tr>\n",
       "      <th>16</th>\n",
       "      <td>2021-03-07</td>\n",
       "      <td>IL</td>\n",
       "      <td>18640190</td>\n",
       "      <td>1198335</td>\n",
       "      <td>6.428770</td>\n",
       "    </tr>\n",
       "  </tbody>\n",
       "</table>\n",
       "</div>"
      ],
      "text/plain": [
       "          Date State  Tests_Total  Cases_Total  Positivity_Rates\n",
       "5   2021-03-07    CA     49646014      3501394          7.052719\n",
       "37  2021-03-07    NY     39695100      1681169          4.235205\n",
       "10  2021-03-07    FL     22339182      1944995          8.706653\n",
       "47  2021-03-07    TX     19907384      2686818         13.496590\n",
       "16  2021-03-07    IL     18640190      1198335          6.428770"
      ]
     },
     "execution_count": 17,
     "metadata": {},
     "output_type": "execute_result"
    }
   ],
   "source": [
    "test_data.sort_values(by = ['Tests_Total'], ascending = False).head()"
   ]
  },
  {
   "cell_type": "code",
   "execution_count": 18,
   "metadata": {},
   "outputs": [
    {
     "data": {
      "text/html": [
       "<div>\n",
       "<style scoped>\n",
       "    .dataframe tbody tr th:only-of-type {\n",
       "        vertical-align: middle;\n",
       "    }\n",
       "\n",
       "    .dataframe tbody tr th {\n",
       "        vertical-align: top;\n",
       "    }\n",
       "\n",
       "    .dataframe thead th {\n",
       "        text-align: right;\n",
       "    }\n",
       "</style>\n",
       "<table border=\"1\" class=\"dataframe\">\n",
       "  <thead>\n",
       "    <tr style=\"text-align: right;\">\n",
       "      <th></th>\n",
       "      <th>Date</th>\n",
       "      <th>State</th>\n",
       "      <th>Tests_Total</th>\n",
       "      <th>Cases_Total</th>\n",
       "      <th>Positivity_Rates</th>\n",
       "    </tr>\n",
       "  </thead>\n",
       "  <tbody>\n",
       "    <tr>\n",
       "      <th>5</th>\n",
       "      <td>2021-03-07</td>\n",
       "      <td>CA</td>\n",
       "      <td>49646014</td>\n",
       "      <td>3501394</td>\n",
       "      <td>7.052719</td>\n",
       "    </tr>\n",
       "    <tr>\n",
       "      <th>47</th>\n",
       "      <td>2021-03-07</td>\n",
       "      <td>TX</td>\n",
       "      <td>19907384</td>\n",
       "      <td>2686818</td>\n",
       "      <td>13.496590</td>\n",
       "    </tr>\n",
       "    <tr>\n",
       "      <th>10</th>\n",
       "      <td>2021-03-07</td>\n",
       "      <td>FL</td>\n",
       "      <td>22339182</td>\n",
       "      <td>1944995</td>\n",
       "      <td>8.706653</td>\n",
       "    </tr>\n",
       "    <tr>\n",
       "      <th>37</th>\n",
       "      <td>2021-03-07</td>\n",
       "      <td>NY</td>\n",
       "      <td>39695100</td>\n",
       "      <td>1681169</td>\n",
       "      <td>4.235205</td>\n",
       "    </tr>\n",
       "    <tr>\n",
       "      <th>16</th>\n",
       "      <td>2021-03-07</td>\n",
       "      <td>IL</td>\n",
       "      <td>18640190</td>\n",
       "      <td>1198335</td>\n",
       "      <td>6.428770</td>\n",
       "    </tr>\n",
       "  </tbody>\n",
       "</table>\n",
       "</div>"
      ],
      "text/plain": [
       "          Date State  Tests_Total  Cases_Total  Positivity_Rates\n",
       "5   2021-03-07    CA     49646014      3501394          7.052719\n",
       "47  2021-03-07    TX     19907384      2686818         13.496590\n",
       "10  2021-03-07    FL     22339182      1944995          8.706653\n",
       "37  2021-03-07    NY     39695100      1681169          4.235205\n",
       "16  2021-03-07    IL     18640190      1198335          6.428770"
      ]
     },
     "execution_count": 18,
     "metadata": {},
     "output_type": "execute_result"
    }
   ],
   "source": [
    "test_data.sort_values(by = ['Cases_Total'], ascending = False).head()"
   ]
  },
  {
   "cell_type": "markdown",
   "metadata": {},
   "source": [
    "From the above two DataFrames we can see that California, New York, Florida, Texas, and Illinois have had the highest amount of COVID-19 tests across the states and we can also observe that Califronia, Texas, Florida, New York, and Illinois have a higher number of cases. So, we can conlude that higher the tests, the cases are relatively higher in those states as well. "
   ]
  },
  {
   "cell_type": "markdown",
   "metadata": {},
   "source": [
    "Now, let's sort the data based on the Positivity Rates."
   ]
  },
  {
   "cell_type": "code",
   "execution_count": 19,
   "metadata": {},
   "outputs": [
    {
     "data": {
      "text/html": [
       "<div>\n",
       "<style scoped>\n",
       "    .dataframe tbody tr th:only-of-type {\n",
       "        vertical-align: middle;\n",
       "    }\n",
       "\n",
       "    .dataframe tbody tr th {\n",
       "        vertical-align: top;\n",
       "    }\n",
       "\n",
       "    .dataframe thead th {\n",
       "        text-align: right;\n",
       "    }\n",
       "</style>\n",
       "<table border=\"1\" class=\"dataframe\">\n",
       "  <thead>\n",
       "    <tr style=\"text-align: right;\">\n",
       "      <th></th>\n",
       "      <th>Date</th>\n",
       "      <th>State</th>\n",
       "      <th>Tests_Total</th>\n",
       "      <th>Cases_Total</th>\n",
       "      <th>Positivity_Rates</th>\n",
       "    </tr>\n",
       "  </thead>\n",
       "  <tbody>\n",
       "    <tr>\n",
       "      <th>15</th>\n",
       "      <td>2021-03-07</td>\n",
       "      <td>ID</td>\n",
       "      <td>645838</td>\n",
       "      <td>172931</td>\n",
       "      <td>26.776219</td>\n",
       "    </tr>\n",
       "    <tr>\n",
       "      <th>14</th>\n",
       "      <td>2021-03-07</td>\n",
       "      <td>IA</td>\n",
       "      <td>1326802</td>\n",
       "      <td>339671</td>\n",
       "      <td>25.600730</td>\n",
       "    </tr>\n",
       "    <tr>\n",
       "      <th>18</th>\n",
       "      <td>2021-03-07</td>\n",
       "      <td>KS</td>\n",
       "      <td>1270547</td>\n",
       "      <td>295861</td>\n",
       "      <td>23.286112</td>\n",
       "    </tr>\n",
       "    <tr>\n",
       "      <th>1</th>\n",
       "      <td>2021-03-07</td>\n",
       "      <td>AL</td>\n",
       "      <td>2323788</td>\n",
       "      <td>499819</td>\n",
       "      <td>21.508804</td>\n",
       "    </tr>\n",
       "    <tr>\n",
       "      <th>17</th>\n",
       "      <td>2021-03-07</td>\n",
       "      <td>IN</td>\n",
       "      <td>3150418</td>\n",
       "      <td>667262</td>\n",
       "      <td>21.180110</td>\n",
       "    </tr>\n",
       "  </tbody>\n",
       "</table>\n",
       "</div>"
      ],
      "text/plain": [
       "          Date State  Tests_Total  Cases_Total  Positivity_Rates\n",
       "15  2021-03-07    ID       645838       172931         26.776219\n",
       "14  2021-03-07    IA      1326802       339671         25.600730\n",
       "18  2021-03-07    KS      1270547       295861         23.286112\n",
       "1   2021-03-07    AL      2323788       499819         21.508804\n",
       "17  2021-03-07    IN      3150418       667262         21.180110"
      ]
     },
     "execution_count": 19,
     "metadata": {},
     "output_type": "execute_result"
    }
   ],
   "source": [
    "test_data.sort_values(by = ['Positivity_Rates'], ascending = False).iloc[5:].head()"
   ]
  },
  {
   "cell_type": "markdown",
   "metadata": {},
   "source": [
    "From the above DataFrame, we can see that higher tests and higher cases does not mean higher positivity rates. We can see that Idaho and Iowa are states with higher positivity rates even though they have lower Tests and Cases than other states such as California, Texas, and Florida."
   ]
  },
  {
   "cell_type": "markdown",
   "metadata": {},
   "source": [
    "Lets graph the positivity rates to see the trends in testing and cases for California, Texas, Florida, Idaho, and Iowa."
   ]
  },
  {
   "cell_type": "code",
   "execution_count": 20,
   "metadata": {},
   "outputs": [
    {
     "data": {
      "image/png": "[encoded data removed]",
      "text/plain": [
       "<Figure size 432x288 with 1 Axes>"
      ]
     },
     "metadata": {
      "needs_background": "light"
     },
     "output_type": "display_data"
    }
   ],
   "source": [
    "test_graph = test_data.set_index('State')\n",
    "plt.hist(test_graph['Positivity_Rates'].loc['CA'])\n",
    "plt.hist(test_graph['Positivity_Rates'].loc['TX'])\n",
    "plt.hist(test_graph['Positivity_Rates'].loc['FL'])\n",
    "plt.hist(test_graph['Positivity_Rates'].loc['ID'])\n",
    "plt.hist(test_graph['Positivity_Rates'].loc['IA']);\n",
    "plt.legend(['CA', 'TX', 'FL', 'ID', 'IA']);"
   ]
  },
  {
   "cell_type": "markdown",
   "metadata": {},
   "source": [
    "Lets graph the Tests for California, Illinois, and Delaware. Delaware is the state with the least amount of tests. So to see the differences in tests is an important part in uderstanding the trends in testing across states and territories in the United States."
   ]
  },
  {
   "cell_type": "code",
   "execution_count": 21,
   "metadata": {},
   "outputs": [
    {
     "data": {
      "image/png": "[encoded data removed]",
      "text/plain": [
       "<Figure size 432x288 with 1 Axes>"
      ]
     },
     "metadata": {
      "needs_background": "light"
     },
     "output_type": "display_data"
    }
   ],
   "source": [
    "test_data_plot = data[['Date', 'State', 'Tests_Total', 'Cases_Total']]\n",
    "test_plot = test_data_plot.set_index(['State', 'Date'])\n",
    "test_ca = pd.DataFrame(test_plot.loc['CA']['Tests_Total'])\n",
    "test_il = pd.DataFrame(test_plot.loc['IL']['Tests_Total'])\n",
    "test_de = pd.DataFrame(test_plot.loc['DE']['Tests_Total'])\n",
    "ax = test_ca.plot()\n",
    "test_il.plot(ax = ax)\n",
    "test_de.plot(ax = ax);"
   ]
  },
  {
   "cell_type": "markdown",
   "metadata": {},
   "source": [
    "### Part 4: What states or territories were most affected by COVID-19 in terms of cases, deaths, and hospitalizations?\n",
    "\n",
    "This part will explore all the parts of the dataset and will make conlusions based on the calculations made for cases, deaths, and hospitalizations for 55 U.S. states and territories."
   ]
  },
  {
   "cell_type": "markdown",
   "metadata": {},
   "source": [
    "#### Part 4(A): Cases across states and territories"
   ]
  },
  {
   "cell_type": "code",
   "execution_count": 22,
   "metadata": {
    "scrolled": true
   },
   "outputs": [
    {
     "data": {
      "image/png": "[encoded data removed]",
      "text/plain": [
       "<Figure size 432x288 with 1 Axes>"
      ]
     },
     "metadata": {
      "needs_background": "light"
     },
     "output_type": "display_data"
    }
   ],
   "source": [
    "cases = data.groupby(by = ['State'])['Cases_Total'].sum()\n",
    "cases.plot(ylabel = 'Cases across States and Territories');"
   ]
  },
  {
   "cell_type": "markdown",
   "metadata": {},
   "source": [
    "The above plot depicts the total cases for all the states and territories across the United States."
   ]
  },
  {
   "cell_type": "code",
   "execution_count": 23,
   "metadata": {},
   "outputs": [
    {
     "data": {
      "text/plain": [
       "State\n",
       "CA    109298533\n",
       "TX     88458685\n",
       "FL     72044096\n",
       "Name: Cases_Total, dtype: int64"
      ]
     },
     "execution_count": 23,
     "metadata": {},
     "output_type": "execute_result"
    }
   ],
   "source": [
    "cases.sort_values(ascending = False)[:3]"
   ]
  },
  {
   "cell_type": "markdown",
   "metadata": {},
   "source": [
    "From the above output, we can see that California, Texas, and Florida are the three states with the highest cases across time. Let's observe the rise of cases in these states in a graph."
   ]
  },
  {
   "cell_type": "code",
   "execution_count": 24,
   "metadata": {},
   "outputs": [
    {
     "data": {
      "image/png": "[encoded data removed]",
      "text/plain": [
       "<Figure size 432x288 with 1 Axes>"
      ]
     },
     "metadata": {
      "needs_background": "light"
     },
     "output_type": "display_data"
    }
   ],
   "source": [
    "data_cases = data.set_index(['State', 'Date'])\n",
    "data_ca = pd.DataFrame(data_cases.loc['CA']['Cases_Total'])\n",
    "data_tx = pd.DataFrame(data_cases.loc['TX']['Cases_Total'])\n",
    "data_fl = pd.DataFrame(data_cases.loc['FL']['Cases_Total'])\n",
    "ax = data_ca.plot()\n",
    "data_tx.plot(ax = ax)\n",
    "data_fl.plot(ax = ax);"
   ]
  },
  {
   "cell_type": "markdown",
   "metadata": {},
   "source": [
    "From the above plot, we can see that California has the highest number of cases across time from the 55 states and territories in the United States. "
   ]
  },
  {
   "cell_type": "markdown",
   "metadata": {},
   "source": [
    "#### Part 4(B): Death across states and territories"
   ]
  },
  {
   "cell_type": "markdown",
   "metadata": {},
   "source": [
    "The deaths for each states are totaled in the Deaths_Total column in the dataset. The deaths are added to the count from the previus day when the data was recorded. So, the total number of deaths in the first 56 rows represent the total deaths across the entire time for each states and territories in the dataset."
   ]
  },
  {
   "cell_type": "code",
   "execution_count": 25,
   "metadata": {},
   "outputs": [
    {
     "data": {
      "image/png": "[encoded data removed]",
      "text/plain": [
       "<Figure size 432x288 with 1 Axes>"
      ]
     },
     "metadata": {
      "needs_background": "light"
     },
     "output_type": "display_data"
    }
   ],
   "source": [
    "deaths = data[['State', 'Deaths_Total']][:56]\n",
    "deaths.groupby(by = ['State'])['Deaths_Total'].sum()\n",
    "deaths.plot(ylabel = 'Deaths across States and Territories', xlabel = 'States and Territories');"
   ]
  },
  {
   "cell_type": "markdown",
   "metadata": {},
   "source": [
    "The above plot depicts the total deaths across all states and territories in the United States."
   ]
  },
  {
   "cell_type": "code",
   "execution_count": 26,
   "metadata": {},
   "outputs": [
    {
     "data": {
      "text/html": [
       "<div>\n",
       "<style scoped>\n",
       "    .dataframe tbody tr th:only-of-type {\n",
       "        vertical-align: middle;\n",
       "    }\n",
       "\n",
       "    .dataframe tbody tr th {\n",
       "        vertical-align: top;\n",
       "    }\n",
       "\n",
       "    .dataframe thead th {\n",
       "        text-align: right;\n",
       "    }\n",
       "</style>\n",
       "<table border=\"1\" class=\"dataframe\">\n",
       "  <thead>\n",
       "    <tr style=\"text-align: right;\">\n",
       "      <th></th>\n",
       "      <th>State</th>\n",
       "      <th>Deaths_Total</th>\n",
       "    </tr>\n",
       "  </thead>\n",
       "  <tbody>\n",
       "    <tr>\n",
       "      <th>5</th>\n",
       "      <td>CA</td>\n",
       "      <td>54124</td>\n",
       "    </tr>\n",
       "    <tr>\n",
       "      <th>37</th>\n",
       "      <td>NY</td>\n",
       "      <td>48591</td>\n",
       "    </tr>\n",
       "    <tr>\n",
       "      <th>47</th>\n",
       "      <td>TX</td>\n",
       "      <td>44451</td>\n",
       "    </tr>\n",
       "    <tr>\n",
       "      <th>10</th>\n",
       "      <td>FL</td>\n",
       "      <td>32266</td>\n",
       "    </tr>\n",
       "    <tr>\n",
       "      <th>41</th>\n",
       "      <td>PA</td>\n",
       "      <td>24349</td>\n",
       "    </tr>\n",
       "  </tbody>\n",
       "</table>\n",
       "</div>"
      ],
      "text/plain": [
       "   State  Deaths_Total\n",
       "5     CA         54124\n",
       "37    NY         48591\n",
       "47    TX         44451\n",
       "10    FL         32266\n",
       "41    PA         24349"
      ]
     },
     "execution_count": 26,
     "metadata": {},
     "output_type": "execute_result"
    }
   ],
   "source": [
    "deaths_top = deaths.sort_values(by = ['Deaths_Total'], ascending = False).head()\n",
    "deaths_top"
   ]
  },
  {
   "cell_type": "markdown",
   "metadata": {},
   "source": [
    "From the above DataFrame, we can see that California, New York, Texas, Florida, and Pennsylvania are the five states with the highest deaths across time in the United States. \n",
    "\n",
    "Let's plot the Total Deaths against States in a graph."
   ]
  },
  {
   "cell_type": "code",
   "execution_count": 27,
   "metadata": {},
   "outputs": [
    {
     "data": {
      "image/png": "[encoded data removed]",
      "text/plain": [
       "<Figure size 432x288 with 1 Axes>"
      ]
     },
     "metadata": {
      "needs_background": "light"
     },
     "output_type": "display_data"
    }
   ],
   "source": [
    "deaths_top.plot(kind = 'bar', x = 'State', y = 'Deaths_Total');"
   ]
  },
  {
   "cell_type": "markdown",
   "metadata": {},
   "source": [
    "From the above plots and cells, we can see that Total deaths were highest in the above states across the United States. "
   ]
  },
  {
   "cell_type": "markdown",
   "metadata": {},
   "source": [
    "#### Part 4(C): Hospitalizations across states and territories"
   ]
  },
  {
   "cell_type": "markdown",
   "metadata": {},
   "source": [
    "To visualize and interpret the data for total hospitalizations across all the states and territories in the United States, we will have to split the data based on the Hosp_Total column. The hospitalizations are added to the count from the previous date when the data was recorded. So, the total hospitalizations for all the states and territories resides in the first 56 rows of the Hosp_Total column."
   ]
  },
  {
   "cell_type": "code",
   "execution_count": 28,
   "metadata": {},
   "outputs": [
    {
     "data": {
      "image/png": "[encoded data removed]",
      "text/plain": [
       "<Figure size 432x288 with 1 Axes>"
      ]
     },
     "metadata": {
      "needs_background": "light"
     },
     "output_type": "display_data"
    }
   ],
   "source": [
    "hosp = data[['State', 'Hosp_Total']][:56]\n",
    "hosp.groupby(by = ['State'])['Hosp_Total'].sum()\n",
    "hosp.plot(ylabel = 'Hospitalizations across States and Territories');"
   ]
  },
  {
   "cell_type": "markdown",
   "metadata": {},
   "source": [
    "The above plot depicts the total hospitalizations across all states and territories in the United States."
   ]
  },
  {
   "cell_type": "code",
   "execution_count": 29,
   "metadata": {},
   "outputs": [
    {
     "data": {
      "text/html": [
       "<div>\n",
       "<style scoped>\n",
       "    .dataframe tbody tr th:only-of-type {\n",
       "        vertical-align: middle;\n",
       "    }\n",
       "\n",
       "    .dataframe tbody tr th {\n",
       "        vertical-align: top;\n",
       "    }\n",
       "\n",
       "    .dataframe thead th {\n",
       "        text-align: right;\n",
       "    }\n",
       "</style>\n",
       "<table border=\"1\" class=\"dataframe\">\n",
       "  <thead>\n",
       "    <tr style=\"text-align: right;\">\n",
       "      <th></th>\n",
       "      <th>State</th>\n",
       "      <th>Hosp_Total</th>\n",
       "    </tr>\n",
       "  </thead>\n",
       "  <tbody>\n",
       "    <tr>\n",
       "      <th>37</th>\n",
       "      <td>NY</td>\n",
       "      <td>89995</td>\n",
       "    </tr>\n",
       "    <tr>\n",
       "      <th>10</th>\n",
       "      <td>FL</td>\n",
       "      <td>82237</td>\n",
       "    </tr>\n",
       "    <tr>\n",
       "      <th>34</th>\n",
       "      <td>NJ</td>\n",
       "      <td>64396</td>\n",
       "    </tr>\n",
       "    <tr>\n",
       "      <th>4</th>\n",
       "      <td>AZ</td>\n",
       "      <td>57907</td>\n",
       "    </tr>\n",
       "    <tr>\n",
       "      <th>11</th>\n",
       "      <td>GA</td>\n",
       "      <td>56797</td>\n",
       "    </tr>\n",
       "  </tbody>\n",
       "</table>\n",
       "</div>"
      ],
      "text/plain": [
       "   State  Hosp_Total\n",
       "37    NY       89995\n",
       "10    FL       82237\n",
       "34    NJ       64396\n",
       "4     AZ       57907\n",
       "11    GA       56797"
      ]
     },
     "execution_count": 29,
     "metadata": {},
     "output_type": "execute_result"
    }
   ],
   "source": [
    "hosp_top = hosp.sort_values(by = ['Hosp_Total'], ascending = False).head()\n",
    "hosp_top"
   ]
  },
  {
   "cell_type": "markdown",
   "metadata": {},
   "source": [
    "Let's graph the total hospitalizations numbers for the above states and territories."
   ]
  },
  {
   "cell_type": "code",
   "execution_count": 30,
   "metadata": {},
   "outputs": [
    {
     "data": {
      "image/png": "[encoded data removed]",
      "text/plain": [
       "<Figure size 432x288 with 1 Axes>"
      ]
     },
     "metadata": {
      "needs_background": "light"
     },
     "output_type": "display_data"
    }
   ],
   "source": [
    "hosp_top.plot(kind = 'bar', x = 'State', y = 'Hosp_Total');"
   ]
  },
  {
   "cell_type": "markdown",
   "metadata": {},
   "source": [
    "From the above plot, we can see that New York, Florida, New Jersey, Arizona, and Georgia have had the highest number of hospitalizations across the United States over the period of time the data was collected."
   ]
  },
  {
   "cell_type": "markdown",
   "metadata": {},
   "source": [
    "#### Conclusion for Part 4\n",
    "\n",
    "From the above plots and graphs, we can see observe the following:\n",
    "\n",
    "* Total hospitalizations are higher in New York and Florida, even though cases are higher in California and Texas. \n",
    "* Cases are higher in California, Texas, and Florida, and deaths are higher in California, New York, Texas, and Florida. We can conclude that states with higher COVID-19 positivity rates have a relatively high death rates.\n",
    "* The state of California has the highest number of cases and deaths, and New York has the highest hospitalization rates across all the states and territories in the United States form April 12, 2020 to March 7, 2021."
   ]
  },
  {
   "cell_type": "markdown",
   "metadata": {},
   "source": [
    "### Conclusion"
   ]
  },
  {
   "cell_type": "code",
   "execution_count": null,
   "metadata": {},
   "outputs": [],
   "source": []
  }
 ],
 "metadata": {
  "kernelspec": {
   "display_name": "Python 3",
   "language": "python",
   "name": "python3"
  },
  "language_info": {
   "codemirror_mode": {
    "name": "ipython",
    "version": 3
   },
   "file_extension": ".py",
   "mimetype": "text/x-python",
   "name": "python",
   "nbconvert_exporter": "python",
   "pygments_lexer": "ipython3",
   "version": "3.8.5"
  }
 },
 "nbformat": 4,
 "nbformat_minor": 4
}
